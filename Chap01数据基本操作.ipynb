{
 "cells": [
  {
   "cell_type": "markdown",
   "id": "3fa5b4e4",
   "metadata": {},
   "source": [
    "### 测试GPU环境"
   ]
  },
  {
   "cell_type": "code",
   "execution_count": 116,
   "id": "fc506b41",
   "metadata": {},
   "outputs": [
    {
     "data": {
      "text/plain": [
       "True"
      ]
     },
     "execution_count": 116,
     "metadata": {},
     "output_type": "execute_result"
    }
   ],
   "source": [
    "import torch\n",
    "torch.cuda.is_available()"
   ]
  },
  {
   "cell_type": "markdown",
   "id": "00924115",
   "metadata": {},
   "source": [
    "### 2.1 创建Tensor"
   ]
  },
  {
   "cell_type": "markdown",
   "id": "75a2e13c",
   "metadata": {},
   "source": [
    "* 创建一个5*3的未初始化的Tensor"
   ]
  },
  {
   "cell_type": "code",
   "execution_count": 38,
   "id": "dc12c02d",
   "metadata": {},
   "outputs": [
    {
     "name": "stdout",
     "output_type": "stream",
     "text": [
      "tensor([[9.8737e+17, 4.5678e-41, 1.4650e-34],\n",
      "        [0.0000e+00, 0.0000e+00, 0.0000e+00],\n",
      "        [0.0000e+00, 0.0000e+00, 0.0000e+00],\n",
      "        [0.0000e+00, 7.7052e+31, 7.2148e+22],\n",
      "        [1.5766e-19, 1.0256e-08, 6.4456e-10]])\n"
     ]
    }
   ],
   "source": [
    "# 导入PyTorch\n",
    "import torch\n",
    "\n",
    "x = torch.empty(5,3) \n",
    "print(x)"
   ]
  },
  {
   "cell_type": "markdown",
   "id": "3f897e5b",
   "metadata": {},
   "source": [
    "* 创建一个5*3的随机初始化的Tensor"
   ]
  },
  {
   "cell_type": "code",
   "execution_count": 39,
   "id": "61504dfd",
   "metadata": {},
   "outputs": [
    {
     "name": "stdout",
     "output_type": "stream",
     "text": [
      "tensor([[0.9516, 0.9004, 0.9236],\n",
      "        [0.7589, 0.9159, 0.3578],\n",
      "        [0.3043, 0.1507, 0.2551],\n",
      "        [0.9982, 0.4159, 0.6439],\n",
      "        [0.4995, 0.4632, 0.8104]])\n"
     ]
    }
   ],
   "source": [
    "x = torch.rand(5,3)\n",
    "print(x)"
   ]
  },
  {
   "cell_type": "markdown",
   "id": "4cedea5b",
   "metadata": {},
   "source": [
    "* 创建一个5*3的long型全0 Tensor"
   ]
  },
  {
   "cell_type": "code",
   "execution_count": 40,
   "id": "c2ca50f9",
   "metadata": {},
   "outputs": [
    {
     "name": "stdout",
     "output_type": "stream",
     "text": [
      "tensor([[0, 0, 0],\n",
      "        [0, 0, 0],\n",
      "        [0, 0, 0],\n",
      "        [0, 0, 0],\n",
      "        [0, 0, 0]])\n"
     ]
    }
   ],
   "source": [
    "all_zero = torch.zeros(5,3,dtype=torch.long)\n",
    "print(all_zero)"
   ]
  },
  {
   "cell_type": "markdown",
   "id": "8c9e0302",
   "metadata": {},
   "source": [
    "* 直接通过数据赋值"
   ]
  },
  {
   "cell_type": "code",
   "execution_count": 41,
   "id": "07a4875c",
   "metadata": {},
   "outputs": [
    {
     "name": "stdout",
     "output_type": "stream",
     "text": [
      "tensor([[0.9516, 0.9004, 0.9236],\n",
      "        [0.7589, 0.9159, 0.3578],\n",
      "        [0.3043, 0.1507, 0.2551],\n",
      "        [0.9982, 0.4159, 0.6439],\n",
      "        [0.4995, 0.4632, 0.8104]])\n"
     ]
    }
   ],
   "source": [
    "given_data = torch.tensor([5.5,3])\n",
    "print(x)"
   ]
  },
  {
   "cell_type": "markdown",
   "id": "a0d7e475",
   "metadata": {},
   "source": [
    "* 使用现有数据赋值"
   ]
  },
  {
   "cell_type": "code",
   "execution_count": 43,
   "id": "6e97efbc",
   "metadata": {},
   "outputs": [],
   "source": [
    "x_old = x.new_ones(5,3,dtype=torch.float64)"
   ]
  },
  {
   "cell_type": "code",
   "execution_count": 44,
   "id": "8f2af187",
   "metadata": {},
   "outputs": [
    {
     "name": "stdout",
     "output_type": "stream",
     "text": [
      "tensor([[1., 1., 1.],\n",
      "        [1., 1., 1.],\n",
      "        [1., 1., 1.],\n",
      "        [1., 1., 1.],\n",
      "        [1., 1., 1.]], dtype=torch.float64)\n",
      "tensor([[ 2.0230,  1.4832, -0.1010],\n",
      "        [-1.1281, -2.2422, -0.2314],\n",
      "        [ 0.9675, -0.4843,  1.7146],\n",
      "        [ 0.2568,  1.1536, -1.0325],\n",
      "        [-1.6559, -0.4516, -1.8088]])\n"
     ]
    }
   ],
   "source": [
    "x_new = torch.randn_like(x_old,dtype=torch.float) # 与x_old具有相同的shape\n",
    "print(x_old)\n",
    "print(x_new)"
   ]
  },
  {
   "cell_type": "markdown",
   "id": "57ab1f0b",
   "metadata": {},
   "source": [
    "* 使用size()或shape来获得Tensor维度"
   ]
  },
  {
   "cell_type": "code",
   "execution_count": 45,
   "id": "48985ad2",
   "metadata": {},
   "outputs": [
    {
     "name": "stdout",
     "output_type": "stream",
     "text": [
      "torch.Size([5, 3])\n",
      "torch.Size([5, 3])\n"
     ]
    }
   ],
   "source": [
    "print(x_old.size())\n",
    "print(x_new.shape)"
   ]
  },
  {
   "cell_type": "markdown",
   "id": "77f2ad6d",
   "metadata": {},
   "source": [
    "### 2.2 操作Tensor"
   ]
  },
  {
   "cell_type": "markdown",
   "id": "a9d70981",
   "metadata": {},
   "source": [
    "#### （1）算术运算"
   ]
  },
  {
   "cell_type": "markdown",
   "id": "c2145b8b",
   "metadata": {},
   "source": [
    "* 加法1"
   ]
  },
  {
   "cell_type": "code",
   "execution_count": 48,
   "id": "4d8be25b",
   "metadata": {},
   "outputs": [
    {
     "name": "stdout",
     "output_type": "stream",
     "text": [
      "tensor([[1.7590, 1.9907, 1.8177],\n",
      "        [1.2072, 1.8388, 1.9061],\n",
      "        [1.8947, 1.1533, 1.1879],\n",
      "        [1.8255, 1.6407, 1.1454],\n",
      "        [1.3005, 1.5951, 1.5679]])\n"
     ]
    }
   ],
   "source": [
    "x = x.new_ones(5,3)\n",
    "y = torch.rand(5,3)\n",
    "print(x+y)"
   ]
  },
  {
   "cell_type": "markdown",
   "id": "607c6e79",
   "metadata": {},
   "source": [
    "* 加法2"
   ]
  },
  {
   "cell_type": "code",
   "execution_count": 49,
   "id": "fdaa6fe7",
   "metadata": {},
   "outputs": [
    {
     "name": "stdout",
     "output_type": "stream",
     "text": [
      "tensor([[1.7590, 1.9907, 1.8177],\n",
      "        [1.2072, 1.8388, 1.9061],\n",
      "        [1.8947, 1.1533, 1.1879],\n",
      "        [1.8255, 1.6407, 1.1454],\n",
      "        [1.3005, 1.5951, 1.5679]])\n"
     ]
    }
   ],
   "source": [
    "print(torch.add(x,y))"
   ]
  },
  {
   "cell_type": "code",
   "execution_count": 50,
   "id": "0989942b",
   "metadata": {},
   "outputs": [
    {
     "name": "stdout",
     "output_type": "stream",
     "text": [
      "tensor([[1.7590, 1.9907, 1.8177],\n",
      "        [1.2072, 1.8388, 1.9061],\n",
      "        [1.8947, 1.1533, 1.1879],\n",
      "        [1.8255, 1.6407, 1.1454],\n",
      "        [1.3005, 1.5951, 1.5679]])\n"
     ]
    }
   ],
   "source": [
    "# 指定输出\n",
    "result = torch.empty(5,3) # 必须先定义，类似于强类型语言\n",
    "torch.add(x,y,out=result)\n",
    "print(result)"
   ]
  },
  {
   "cell_type": "markdown",
   "id": "b587ed2c",
   "metadata": {},
   "source": [
    "* 加法3"
   ]
  },
  {
   "cell_type": "code",
   "execution_count": 51,
   "id": "2a2f5131",
   "metadata": {},
   "outputs": [
    {
     "name": "stdout",
     "output_type": "stream",
     "text": [
      "tensor([[1.7590, 1.9907, 1.8177],\n",
      "        [1.2072, 1.8388, 1.9061],\n",
      "        [1.8947, 1.1533, 1.1879],\n",
      "        [1.8255, 1.6407, 1.1454],\n",
      "        [1.3005, 1.5951, 1.5679]])\n"
     ]
    }
   ],
   "source": [
    "y.add_(x) # 改变了y的值\n",
    "print(y)"
   ]
  },
  {
   "cell_type": "markdown",
   "id": "0c6f2233",
   "metadata": {},
   "source": [
    "#### （2）索引："
   ]
  },
  {
   "cell_type": "code",
   "execution_count": 54,
   "id": "d1e45ce3",
   "metadata": {},
   "outputs": [
    {
     "name": "stdout",
     "output_type": "stream",
     "text": [
      "tensor([[1., 1., 1.],\n",
      "        [1., 1., 1.],\n",
      "        [1., 1., 1.],\n",
      "        [1., 1., 1.],\n",
      "        [1., 1., 1.]])\n",
      "tensor([2., 2., 2.])\n",
      "tensor([1., 1., 1.])\n"
     ]
    }
   ],
   "source": [
    "x = x.new_ones(5,3)\n",
    "print(x)\n",
    "y = x[0,:]\n",
    "y = y+1\n",
    "print(y)\n",
    "print(x[0,:]) # 源x并未修改，与课本不一致，说明索引出来的结果与原数据并没有共享内存"
   ]
  },
  {
   "cell_type": "markdown",
   "id": "d147f23c",
   "metadata": {},
   "source": [
    "#### （3）改变形状"
   ]
  },
  {
   "cell_type": "markdown",
   "id": "a857c10a",
   "metadata": {},
   "source": [
    "* 通过view改变形状"
   ]
  },
  {
   "cell_type": "code",
   "execution_count": 96,
   "id": "786add5d",
   "metadata": {},
   "outputs": [
    {
     "name": "stdout",
     "output_type": "stream",
     "text": [
      "tensor([[0.5388, 0.3228, 0.7689],\n",
      "        [0.9215, 0.2115, 0.8622],\n",
      "        [0.0365, 0.1307, 0.1349],\n",
      "        [0.7190, 0.5224, 0.7970],\n",
      "        [0.1132, 0.6644, 0.5514]])\n",
      "tensor([0.5388, 0.3228, 0.7689, 0.9215, 0.2115, 0.8622, 0.0365, 0.1307, 0.1349,\n",
      "        0.7190, 0.5224, 0.7970, 0.1132, 0.6644, 0.5514])\n",
      "tensor([[0.5388, 0.3228, 0.7689, 0.9215, 0.2115],\n",
      "        [0.8622, 0.0365, 0.1307, 0.1349, 0.7190],\n",
      "        [0.5224, 0.7970, 0.1132, 0.6644, 0.5514]])\n"
     ]
    },
    {
     "data": {
      "text/plain": [
       "(None, None)"
      ]
     },
     "execution_count": 96,
     "metadata": {},
     "output_type": "execute_result"
    }
   ],
   "source": [
    "x = torch.rand(5,3)\n",
    "print(x)\n",
    "y = x.view(15)\n",
    "z = x.view(-1,5) # -1表示的维度是根据其他维度的值计算出来的\n",
    "print(y),print(z)"
   ]
  },
  {
   "cell_type": "markdown",
   "id": "bf07672e",
   "metadata": {},
   "source": [
    "* view()返回的数据与源数据共享data，view仅仅是改变对张量的观察角度，内部数据并未改变"
   ]
  },
  {
   "cell_type": "code",
   "execution_count": 97,
   "id": "d9028efe",
   "metadata": {},
   "outputs": [
    {
     "name": "stdout",
     "output_type": "stream",
     "text": [
      "tensor([[1.5388, 1.3228, 1.7689],\n",
      "        [1.9215, 1.2115, 1.8622],\n",
      "        [1.0365, 1.1307, 1.1349],\n",
      "        [1.7190, 1.5224, 1.7970],\n",
      "        [1.1132, 1.6644, 1.5514]])\n",
      "tensor([1.5388, 1.3228, 1.7689, 1.9215, 1.2115, 1.8622, 1.0365, 1.1307, 1.1349,\n",
      "        1.7190, 1.5224, 1.7970, 1.1132, 1.6644, 1.5514])\n",
      "False\n",
      "False\n"
     ]
    }
   ],
   "source": [
    "x += 1\n",
    "print(x)\n",
    "print(y)\n",
    "print(id(x)==id(y))\n",
    "print(id(x)==id(x.view(15)))"
   ]
  },
  {
   "cell_type": "markdown",
   "id": "43c98165",
   "metadata": {},
   "source": [
    "* 使用clone创造一个副本然后再使用view"
   ]
  },
  {
   "cell_type": "code",
   "execution_count": 65,
   "id": "8ac0d144",
   "metadata": {},
   "outputs": [
    {
     "name": "stdout",
     "output_type": "stream",
     "text": [
      "tensor([[3.0373, 3.7849, 3.0534],\n",
      "        [3.4876, 3.7183, 3.2063],\n",
      "        [3.9114, 3.1333, 3.7305],\n",
      "        [3.7558, 3.5168, 3.0354],\n",
      "        [3.3139, 3.4477, 3.7193]])\n",
      "tensor([2.0373, 2.7849, 2.0534, 2.4876, 2.7183, 2.2063, 2.9114, 2.1333, 2.7305,\n",
      "        2.7558, 2.5168, 2.0354, 2.3139, 2.4477, 2.7193])\n"
     ]
    }
   ],
   "source": [
    "x_cp = x.clone()\n",
    "y = x_cp.view(15)\n",
    "x += 1\n",
    "print(x)\n",
    "print(y)"
   ]
  },
  {
   "cell_type": "markdown",
   "id": "576ea3a9",
   "metadata": {},
   "source": [
    "* 将一个标量Tensor转换为一个Python number"
   ]
  },
  {
   "cell_type": "code",
   "execution_count": 67,
   "id": "669c0ae3",
   "metadata": {},
   "outputs": [
    {
     "name": "stdout",
     "output_type": "stream",
     "text": [
      "tensor([-1.2223])\n",
      "-1.2223304510116577\n"
     ]
    }
   ],
   "source": [
    "x = torch.randn(1)\n",
    "print(x)\n",
    "print(x.item())"
   ]
  },
  {
   "cell_type": "markdown",
   "id": "2550be66",
   "metadata": {},
   "source": [
    "#### （4）广播：适当复制元素使两个Tensor形状相同再按元素运算"
   ]
  },
  {
   "cell_type": "code",
   "execution_count": 69,
   "id": "b64f90a1",
   "metadata": {},
   "outputs": [
    {
     "name": "stdout",
     "output_type": "stream",
     "text": [
      "tensor([[1, 2]])\n",
      "tensor([[1],\n",
      "        [2],\n",
      "        [3]])\n",
      "tensor([[2, 3],\n",
      "        [3, 4],\n",
      "        [4, 5]])\n"
     ]
    }
   ],
   "source": [
    "# 当形状不同的Tensor进行元素计算时，可能会触发广播机制\n",
    "x = torch.arange(1,3).view(1,2)\n",
    "print(x)\n",
    "\n",
    "y = torch.arange(1,4).view(3,1)\n",
    "print(y)\n",
    "\n",
    "print(x+y)"
   ]
  },
  {
   "cell_type": "markdown",
   "id": "ed45f15e",
   "metadata": {},
   "source": [
    "### 2.3 运算内存开销"
   ]
  },
  {
   "cell_type": "markdown",
   "id": "7557a62a",
   "metadata": {},
   "source": [
    "* 索引操作并不会开辟新内存；"
   ]
  },
  {
   "cell_type": "markdown",
   "id": "3838e2bb",
   "metadata": {},
   "source": [
    "* y=x+y这样的运算将开辟新的内存，而后将y指向新内存；"
   ]
  },
  {
   "cell_type": "markdown",
   "id": "94079428",
   "metadata": {},
   "source": [
    "测试思路：\n",
    "* 使用python自带的id函数；\n",
    "* 如果两个Tensor的ID一致，说明对应的内存地址相同，反之不同"
   ]
  },
  {
   "cell_type": "code",
   "execution_count": 79,
   "id": "5f2cfed9",
   "metadata": {},
   "outputs": [
    {
     "name": "stdout",
     "output_type": "stream",
     "text": [
      "140001384442592\n",
      "140001384442752\n"
     ]
    }
   ],
   "source": [
    "x = torch.tensor([1,2])\n",
    "y = torch.tensor([3,4])\n",
    "\n",
    "id_before = id(y)\n",
    "y = x + y;\n",
    "print(id_before)\n",
    "print(id(y))"
   ]
  },
  {
   "cell_type": "code",
   "execution_count": 90,
   "id": "b0a59254",
   "metadata": {},
   "outputs": [
    {
     "name": "stdout",
     "output_type": "stream",
     "text": [
      "False\n"
     ]
    }
   ],
   "source": [
    "id_before = id(y)\n",
    "y = y.view(2)\n",
    "\n",
    "print(id(y) == id_before)"
   ]
  },
  {
   "cell_type": "code",
   "execution_count": 92,
   "id": "e4485040",
   "metadata": {},
   "outputs": [
    {
     "name": "stdout",
     "output_type": "stream",
     "text": [
      "True\n"
     ]
    }
   ],
   "source": [
    "# 通过索引指定结果到原来的内存\n",
    "x = torch.tensor([1,2])\n",
    "y = torch.tensor([3,4])\n",
    "\n",
    "id_before = id(y)\n",
    "y[:] = x+y\n",
    "print(id(y)==id_before)"
   ]
  },
  {
   "cell_type": "code",
   "execution_count": 100,
   "id": "afe26878",
   "metadata": {},
   "outputs": [
    {
     "name": "stdout",
     "output_type": "stream",
     "text": [
      "True\n"
     ]
    }
   ],
   "source": [
    "# 使用torch.add达到上述效果\n",
    "x = torch.tensor([1,2])\n",
    "y = torch.tensor([3,4])\n",
    "\n",
    "id_before = id(y)\n",
    "torch.add(x,y,out=y)\n",
    "print(id(y)==id_before) # True"
   ]
  },
  {
   "cell_type": "code",
   "execution_count": 101,
   "id": "f65847e1",
   "metadata": {},
   "outputs": [
    {
     "name": "stdout",
     "output_type": "stream",
     "text": [
      "True\n"
     ]
    }
   ],
   "source": [
    "# 使用+=达到上述效果\n",
    "x = torch.tensor([1,2])\n",
    "y = torch.tensor([3,4])\n",
    "\n",
    "id_before = id(y)\n",
    "y += x\n",
    "print(id(y)==id_before) # True"
   ]
  },
  {
   "cell_type": "code",
   "execution_count": 102,
   "id": "8ae889dd",
   "metadata": {},
   "outputs": [
    {
     "name": "stdout",
     "output_type": "stream",
     "text": [
      "True\n"
     ]
    }
   ],
   "source": [
    "# 使用add_()达到上述效果\n",
    "x = torch.tensor([1,2])\n",
    "y = torch.tensor([3,4])\n",
    "\n",
    "id_before = id(y)\n",
    "y.add_(x);\n",
    "print(id(y)==id_before) # True"
   ]
  },
  {
   "cell_type": "code",
   "execution_count": 105,
   "id": "9f1aee08",
   "metadata": {},
   "outputs": [
    {
     "name": "stdout",
     "output_type": "stream",
     "text": [
      "False\n"
     ]
    }
   ],
   "source": [
    "# view虽然与源Tensor共享data,但却是一个新的Tensor，因为除了data还有其他一些属性\n",
    "y = torch.tensor([3,4])\n",
    "id_before = id(y)\n",
    "print(id(y)==id(y.view(2))) # False"
   ]
  },
  {
   "cell_type": "markdown",
   "id": "a5a97ae3",
   "metadata": {},
   "source": [
    "### 2.4 Tensor与Numpy互相转换"
   ]
  },
  {
   "cell_type": "markdown",
   "id": "27043695",
   "metadata": {},
   "source": [
    "* Tensor 转 Numpy"
   ]
  },
  {
   "cell_type": "code",
   "execution_count": 108,
   "id": "4bd04578",
   "metadata": {},
   "outputs": [
    {
     "name": "stdout",
     "output_type": "stream",
     "text": [
      "tensor([[1., 1., 1., 1., 1.],\n",
      "        [1., 1., 1., 1., 1.]]) [[1. 1. 1. 1. 1.]\n",
      " [1. 1. 1. 1. 1.]]\n",
      "tensor([[2., 2., 2., 2., 2.],\n",
      "        [2., 2., 2., 2., 2.]]) [[2. 2. 2. 2. 2.]\n",
      " [2. 2. 2. 2. 2.]]\n",
      "tensor([[3., 3., 3., 3., 3.],\n",
      "        [3., 3., 3., 3., 3.]]) [[3. 3. 3. 3. 3.]\n",
      " [3. 3. 3. 3. 3.]]\n"
     ]
    }
   ],
   "source": [
    "# 使用numpy()将Tensor转化为Numpy，两者共享内存\n",
    "a = torch.ones(2,5)\n",
    "b = a.numpy();\n",
    "print(a,b)\n",
    "\n",
    "a += 1\n",
    "print(a,b)\n",
    "\n",
    "b += 1\n",
    "print(a,b)"
   ]
  },
  {
   "cell_type": "markdown",
   "id": "4b81dae6",
   "metadata": {},
   "source": [
    "* Numpy 转 Tensor"
   ]
  },
  {
   "cell_type": "code",
   "execution_count": 112,
   "id": "668aa9b2",
   "metadata": {},
   "outputs": [
    {
     "name": "stdout",
     "output_type": "stream",
     "text": [
      "[[1. 1. 1. 1. 1.]\n",
      " [1. 1. 1. 1. 1.]] tensor([[1., 1., 1., 1., 1.],\n",
      "        [1., 1., 1., 1., 1.]], dtype=torch.float64)\n",
      "[[2. 2. 2. 2. 2.]\n",
      " [2. 2. 2. 2. 2.]] tensor([[2., 2., 2., 2., 2.],\n",
      "        [2., 2., 2., 2., 2.]], dtype=torch.float64)\n",
      "[[3. 3. 3. 3. 3.]\n",
      " [3. 3. 3. 3. 3.]] tensor([[3., 3., 3., 3., 3.],\n",
      "        [3., 3., 3., 3., 3.]], dtype=torch.float64)\n"
     ]
    }
   ],
   "source": [
    "# 使用from_numpy()将numpy转化为Tensor，两者共享内存\n",
    "import numpy as np\n",
    "a = np.ones([2,5])\n",
    "b = torch.from_numpy(a)\n",
    "print(a,b)\n",
    "\n",
    "a += 1\n",
    "print(a,b)\n",
    "\n",
    "b += 1\n",
    "print(a,b)"
   ]
  },
  {
   "cell_type": "code",
   "execution_count": 120,
   "id": "a126f47b",
   "metadata": {},
   "outputs": [
    {
     "name": "stdout",
     "output_type": "stream",
     "text": [
      "[[6. 6. 6. 6. 6.]\n",
      " [6. 6. 6. 6. 6.]] tensor([[5., 5., 5., 5., 5.],\n",
      "        [5., 5., 5., 5., 5.]], dtype=torch.float64)\n"
     ]
    }
   ],
   "source": [
    "# 使用torch.tensor()将numpy转化为Tensor，两者不共享内存\n",
    "c = torch.tensor(a)\n",
    "a += 1\n",
    "print(a,c)"
   ]
  },
  {
   "cell_type": "markdown",
   "id": "4383dd13",
   "metadata": {},
   "source": [
    "### 2.5 自动求梯度"
   ]
  },
  {
   "cell_type": "code",
   "execution_count": null,
   "id": "ddb65700",
   "metadata": {},
   "outputs": [],
   "source": []
  },
  {
   "cell_type": "markdown",
   "id": "726dbeef",
   "metadata": {},
   "source": [
    "#### Tensor on GPU"
   ]
  },
  {
   "cell_type": "code",
   "execution_count": 119,
   "id": "f78bd4c4",
   "metadata": {},
   "outputs": [
    {
     "name": "stdout",
     "output_type": "stream",
     "text": [
      "tensor([[2., 1.],\n",
      "        [1., 2.]], device='cuda:0')\n",
      "tensor([[2., 1.],\n",
      "        [1., 2.]], dtype=torch.float64)\n"
     ]
    }
   ],
   "source": [
    "# 用to()可以将Tensor在CPU和GPU之间相互移动\n",
    "x = torch.eye(2)\n",
    "if torch.cuda.is_available():\n",
    "    device = torch.device(\"cuda\") # GPU\n",
    "    y = torch.ones_like(x,device=device) # 直接创建一个在GPU上的Tensor\n",
    "    x = x.to(device)\n",
    "    z = x + y;\n",
    "    print(z)\n",
    "    print(z.to(\"cpu\",torch.double)) # 同时更改数据类型\n",
    "    "
   ]
  },
  {
   "cell_type": "code",
   "execution_count": null,
   "id": "841014a1",
   "metadata": {},
   "outputs": [],
   "source": []
  }
 ],
 "metadata": {
  "kernelspec": {
   "display_name": "Python 3 (ipykernel)",
   "language": "python",
   "name": "python3"
  },
  "language_info": {
   "codemirror_mode": {
    "name": "ipython",
    "version": 3
   },
   "file_extension": ".py",
   "mimetype": "text/x-python",
   "name": "python",
   "nbconvert_exporter": "python",
   "pygments_lexer": "ipython3",
   "version": "3.9.13"
  }
 },
 "nbformat": 4,
 "nbformat_minor": 5
}
