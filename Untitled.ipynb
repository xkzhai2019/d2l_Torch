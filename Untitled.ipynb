{
 "cells": [
  {
   "cell_type": "markdown",
   "id": "6cf39ef7",
   "metadata": {},
   "source": [
    "数据操作"
   ]
  },
  {
   "cell_type": "markdown",
   "id": "3fa5b4e4",
   "metadata": {},
   "source": [
    "测试GPU"
   ]
  },
  {
   "cell_type": "code",
   "execution_count": 2,
   "id": "fc506b41",
   "metadata": {},
   "outputs": [
    {
     "data": {
      "text/plain": [
       "True"
      ]
     },
     "execution_count": 2,
     "metadata": {},
     "output_type": "execute_result"
    }
   ],
   "source": [
    "import torch\n",
    "torch.cuda.is_available()"
   ]
  },
  {
   "cell_type": "code",
   "execution_count": 3,
   "id": "dc12c02d",
   "metadata": {},
   "outputs": [
    {
     "name": "stdout",
     "output_type": "stream",
     "text": [
      "tensor([[6.4805e-10, 2.5203e-09, 1.6992e-04],\n",
      "        [6.7975e-04, 4.3351e-08, 6.7122e-07],\n",
      "        [6.4097e-10, 1.4580e-19, 1.1495e+24],\n",
      "        [3.0956e-18, 1.9140e+23, 4.1960e-08],\n",
      "        [1.6917e-04, 1.6411e-07, 4.3246e-05]])\n"
     ]
    }
   ],
   "source": [
    "import torch\n",
    "\n",
    "x = torch.empty(5,3)\n",
    "print(x)"
   ]
  },
  {
   "cell_type": "code",
   "execution_count": null,
   "id": "8f2af187",
   "metadata": {},
   "outputs": [],
   "source": []
  }
 ],
 "metadata": {
  "kernelspec": {
   "display_name": "Python 3 (ipykernel)",
   "language": "python",
   "name": "python3"
  },
  "language_info": {
   "codemirror_mode": {
    "name": "ipython",
    "version": 3
   },
   "file_extension": ".py",
   "mimetype": "text/x-python",
   "name": "python",
   "nbconvert_exporter": "python",
   "pygments_lexer": "ipython3",
   "version": "3.9.13"
  }
 },
 "nbformat": 4,
 "nbformat_minor": 5
}
